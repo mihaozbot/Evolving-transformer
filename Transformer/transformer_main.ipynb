{
 "cells": [
  {
   "cell_type": "code",
   "execution_count": null,
   "metadata": {},
   "outputs": [],
   "source": [
    "\n",
    "self.encoder_input_layer = nn.Linear(\n",
    "  in_features=input_size, \n",
    "  out_features=dim_val\n",
    ")\n",
    "\n",
    "import positional_encoder as pe\n",
    "\n",
    "# Create positional encoder\n",
    "self.positional_encoding_layer = pe.PositionalEncoder(\n",
    "    d_model=dim_val,\n",
    "    dropout=dropout_pos_enc,\n",
    "    max_seq_len=max_seq_len\n",
    "    )"
   ]
  }
 ],
 "metadata": {
  "kernelspec": {
   "display_name": "evolver",
   "language": "python",
   "name": "python3"
  },
  "language_info": {
   "name": "python",
   "version": "3.10.0 | packaged by conda-forge | (default, Nov 10 2021, 13:20:59) [MSC v.1916 64 bit (AMD64)]"
  },
  "orig_nbformat": 4,
  "vscode": {
   "interpreter": {
    "hash": "e71722d65b5223776da37cedf1323bc3aa14d72634f57b4fb8a6fc48fcee2b25"
   }
  }
 },
 "nbformat": 4,
 "nbformat_minor": 2
}

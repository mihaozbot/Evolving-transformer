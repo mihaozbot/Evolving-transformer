{
 "cells": [
  {
   "cell_type": "code",
   "execution_count": 1,
   "metadata": {},
   "outputs": [
    {
     "ename": "NameError",
     "evalue": "name 'nn' is not defined",
     "output_type": "error",
     "traceback": [
      "\u001b[1;31m---------------------------------------------------------------------------\u001b[0m",
      "\u001b[1;31mNameError\u001b[0m                                 Traceback (most recent call last)",
      "Cell \u001b[1;32mIn[1], line 1\u001b[0m\n\u001b[1;32m----> 1\u001b[0m \u001b[39mself\u001b[39m\u001b[39m.\u001b[39mencoder_input_layer \u001b[39m=\u001b[39m nn\u001b[39m.\u001b[39mLinear(\n\u001b[0;32m      2\u001b[0m   in_features\u001b[39m=\u001b[39minput_size, \n\u001b[0;32m      3\u001b[0m   out_features\u001b[39m=\u001b[39mdim_val\n\u001b[0;32m      4\u001b[0m )\n\u001b[0;32m      6\u001b[0m \u001b[39mimport\u001b[39;00m \u001b[39mpositional_encoder\u001b[39;00m \u001b[39mas\u001b[39;00m \u001b[39mpe\u001b[39;00m\n\u001b[0;32m      8\u001b[0m \u001b[39m# Create positional encoder\u001b[39;00m\n",
      "\u001b[1;31mNameError\u001b[0m: name 'nn' is not defined"
     ]
    }
   ],
   "source": [
    "\n",
    "self.encoder_input_layer = nn.Linear(\n",
    "  in_features=input_size, \n",
    "  out_features=dim_val\n",
    ")\n",
    "\n",
    "import positional_encoder as pe\n",
    "\n",
    "# Create positional encoder\n",
    "self.positional_encoding_layer = pe.PositionalEncoder(\n",
    "    d_model=dim_val,\n",
    "    dropout=dropout_pos_enc,\n",
    "    max_seq_len=max_seq_len\n",
    "    )"
   ]
  }
 ],
 "metadata": {
  "kernelspec": {
   "display_name": "evolver",
   "language": "python",
   "name": "python3"
  },
  "language_info": {
   "codemirror_mode": {
    "name": "ipython",
    "version": 3
   },
   "file_extension": ".py",
   "mimetype": "text/x-python",
   "name": "python",
   "nbconvert_exporter": "python",
   "pygments_lexer": "ipython3",
   "version": "3.10.0 | packaged by conda-forge | (default, Nov 10 2021, 13:20:59) [MSC v.1916 64 bit (AMD64)]"
  },
  "orig_nbformat": 4,
  "vscode": {
   "interpreter": {
    "hash": "e71722d65b5223776da37cedf1323bc3aa14d72634f57b4fb8a6fc48fcee2b25"
   }
  }
 },
 "nbformat": 4,
 "nbformat_minor": 2
}

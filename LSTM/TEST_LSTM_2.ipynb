{
 "cells": [
  {
   "cell_type": "code",
   "execution_count": 11,
   "metadata": {},
   "outputs": [
    {
     "name": "stdout",
     "output_type": "stream",
     "text": [
      "CUDA available = False\n"
     ]
    }
   ],
   "source": [
    "import torch\n",
    "import torchvision\n",
    "import torch.nn as nn\n",
    "\n",
    "print(\"CUDA available = \" + str(torch.cuda.is_available()))\n",
    "\n",
    "input_size = 1    # The number of variables in your sequence data. \n",
    "n_hidden   = 100  # The number of hidden nodes in the LSTM layer.\n",
    "n_layers   = 2    # The total number of LSTM models layers\n",
    "out_size   = 1    # The size of the output you desire from your RNN\n",
    "\n",
    "lstm   = nn.LSTM(input_size, n_hidden, n_layers)\n",
    "linear = nn.Linear(n_hidden, 1)"
   ]
  }
 ],
 "metadata": {
  "kernelspec": {
   "display_name": "evolver",
   "language": "python",
   "name": "python3"
  },
  "language_info": {
   "codemirror_mode": {
    "name": "ipython",
    "version": 3
   },
   "file_extension": ".py",
   "mimetype": "text/x-python",
   "name": "python",
   "nbconvert_exporter": "python",
   "pygments_lexer": "ipython3",
   "version": "3.10.0 | packaged by conda-forge | (default, Nov 10 2021, 13:20:59) [MSC v.1916 64 bit (AMD64)]"
  },
  "orig_nbformat": 4,
  "vscode": {
   "interpreter": {
    "hash": "e71722d65b5223776da37cedf1323bc3aa14d72634f57b4fb8a6fc48fcee2b25"
   }
  }
 },
 "nbformat": 4,
 "nbformat_minor": 2
}
